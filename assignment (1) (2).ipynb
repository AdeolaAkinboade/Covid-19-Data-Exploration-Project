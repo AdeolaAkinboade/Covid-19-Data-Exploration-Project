{
 "cells": [
  {
   "cell_type": "code",
   "execution_count": 1,
   "id": "4088f7cd",
   "metadata": {},
   "outputs": [],
   "source": [
    "%matplotlib inline\n",
    "import numpy\n",
    "import scipy\n",
    "import scipy.stats\n",
    "from matplotlib import pyplot as plt"
   ]
  },
  {
   "cell_type": "code",
   "execution_count": 2,
   "id": "ab1b0884",
   "metadata": {},
   "outputs": [],
   "source": [
    "s=5.0\n",
    "p=2.0\n",
    "vf1= 10.0\n",
    "ks=1.0\n",
    "kx1=1.0\n",
    "vf2=4.0\n",
    "keq=5.0\n",
    "kx2=0.20\n",
    "kp=2.00"
   ]
  },
  {
   "cell_type": "code",
   "execution_count": 3,
   "id": "e9c650e0",
   "metadata": {},
   "outputs": [],
   "source": [
    "#functions v1 and v2\n",
    "def v1(x):\n",
    "    return (vf1*s/ks-(vf1*s/ks*((x/s)/keq)))/(1+s/ks+x/kx1)\n",
    "\n",
    "def v2(x):\n",
    "     return (vf2*x/kx2-(vf2*x/kx2*((p/x)/keq)))/(1+x/kx2+p/kp)"
   ]
  },
  {
   "cell_type": "code",
   "execution_count": 4,
   "id": "a9c4c75a",
   "metadata": {},
   "outputs": [],
   "source": [
    "x = numpy.linspace(1, 8, 400)"
   ]
  },
  {
   "cell_type": "code",
   "execution_count": 5,
   "id": "c7f7be48",
   "metadata": {},
   "outputs": [
    {
     "data": {
      "text/plain": [
       "Text(0, 0.5, 'v')"
      ]
     },
     "execution_count": 5,
     "metadata": {},
     "output_type": "execute_result"
    },
    {
     "data": {
      "image/png": "[encoded data removed]",
      "text/plain": [
       "<Figure size 432x288 with 1 Axes>"
      ]
     },
     "metadata": {
      "needs_background": "light"
     },
     "output_type": "display_data"
    }
   ],
   "source": [
    "plt.figure()\n",
    "plt.plot(x, v1(x), '-', label='v1')\n",
    "plt.plot(x, v2(x), '-', label='v2')\n",
    "plt.legend()\n",
    "plt.xlabel('x')\n",
    "plt.ylabel('v')"
   ]
  },
  {
   "cell_type": "code",
   "execution_count": 6,
   "id": "fdd8976d",
   "metadata": {},
   "outputs": [],
   "source": [
    "#x=5.8 and \n",
    "#J=2.7"
   ]
  },
  {
   "cell_type": "code",
   "execution_count": 7,
   "id": "a511c35f",
   "metadata": {},
   "outputs": [],
   "source": [
    "logx = numpy.log10(x)\n",
    "logv1 = numpy.log10(v1(x))\n",
    "logv2 = numpy.log10(v2(x))"
   ]
  },
  {
   "cell_type": "code",
   "execution_count": 13,
   "id": "ede70866",
   "metadata": {},
   "outputs": [
    {
     "data": {
      "text/plain": [
       "<matplotlib.legend.Legend at 0x2e426ce1f40>"
      ]
     },
     "execution_count": 13,
     "metadata": {},
     "output_type": "execute_result"
    },
    {
     "data": {
      "image/png": "[encoded data removed]",
      "text/plain": [
       "<Figure size 432x288 with 1 Axes>"
      ]
     },
     "metadata": {
      "needs_background": "light"
     },
     "output_type": "display_data"
    }
   ],
   "source": [
    "plt.figure()\n",
    "plt.plot(x, v1(x), '-', label='v1')\n",
    "plt.plot(x, v2(x), '-', label='v2')\n",
    "plt.loglog()\n",
    "plt.xlabel('logx')\n",
    "plt.ylabel('logv')\n",
    "plt.legend()\n"
   ]
  },
  {
   "cell_type": "code",
   "execution_count": 14,
   "id": "8151f543",
   "metadata": {},
   "outputs": [],
   "source": [
    "import numpy as np"
   ]
  },
  {
   "cell_type": "code",
   "execution_count": 15,
   "id": "7edfb91b",
   "metadata": {},
   "outputs": [
    {
     "name": "stdout",
     "output_type": "stream",
     "text": [
      "index= 250\n",
      "x= 5.385964912280701\n",
      "v1= 3.4453004622496146\n",
      "v2= 3.4469375379017584\n"
     ]
    }
   ],
   "source": [
    "diff = v1(x)- v2(x)\n",
    "index = np.argmin(abs(diff)) \n",
    "print('index=',index)\n",
    "print('x=',x[index])\n",
    "print('v1=',v1(x[index]))\n",
    "print('v2=',v2(x[index]))"
   ]
  },
  {
   "cell_type": "code",
   "execution_count": 16,
   "id": "257ecd0f",
   "metadata": {},
   "outputs": [
    {
     "data": {
      "text/plain": [
       "5.385964912280701"
      ]
     },
     "execution_count": 16,
     "metadata": {},
     "output_type": "execute_result"
    }
   ],
   "source": [
    "x[250]"
   ]
  },
  {
   "cell_type": "code",
   "execution_count": 17,
   "id": "563cd2a6",
   "metadata": {},
   "outputs": [
    {
     "name": "stdout",
     "output_type": "stream",
     "text": [
      "[5.36842105 5.38596491]\n"
     ]
    }
   ],
   "source": [
    "xss= x[249:251]\n",
    "print(xss)"
   ]
  },
  {
   "cell_type": "code",
   "execution_count": 18,
   "id": "15d40b1e",
   "metadata": {},
   "outputs": [
    {
     "name": "stdout",
     "output_type": "stream",
     "text": [
      "ev1_x -0.7466563094380797\n",
      "ev2_x 0.14960463212836503\n"
     ]
    }
   ],
   "source": [
    "e1x = scipy.stats.linregress(logx[249:251], logv1[249:251]).slope\n",
    "print('ev1_x' , e1x)\n",
    "\n",
    "e2x = scipy.stats.linregress(logx[249:251], logv2[249:251]).slope\n",
    "print('ev2_x' , e2x)"
   ]
  },
  {
   "cell_type": "code",
   "execution_count": 19,
   "id": "9ef6ef0f",
   "metadata": {},
   "outputs": [
    {
     "name": "stdout",
     "output_type": "stream",
     "text": [
      "CJ_1 0.166920843238904\n",
      "CJ_2 -0.833079156761096\n",
      "CX_1 1.115746490360547\n",
      "CX_2 -1.115746490360547\n"
     ]
    }
   ],
   "source": [
    "CJ_1 = e2x/(e2x-e1x)\n",
    "print('CJ_1', CJ_1)\n",
    "\n",
    "CJ_2 = e1x/(e2x-e1x)\n",
    "print('CJ_2', CJ_2)\n",
    "\n",
    "CX_1 = 1/(e2x-e1x)\n",
    "print('CX_1', CX_1)\n",
    "\n",
    "CX_2 = -1/(e2x-e1x)\n",
    "print('CX_2', CX_2)"
   ]
  },
  {
   "cell_type": "code",
   "execution_count": null,
   "id": "36cceb99",
   "metadata": {},
   "outputs": [],
   "source": []
  },
  {
   "cell_type": "code",
   "execution_count": null,
   "id": "29558526",
   "metadata": {},
   "outputs": [],
   "source": []
  }
 ],
 "metadata": {
  "kernelspec": {
   "display_name": "Python 3",
   "language": "python",
   "name": "python3"
  },
  "language_info": {
   "codemirror_mode": {
    "name": "ipython",
    "version": 3
   },
   "file_extension": ".py",
   "mimetype": "text/x-python",
   "name": "python",
   "nbconvert_exporter": "python",
   "pygments_lexer": "ipython3",
   "version": "3.8.8"
  }
 },
 "nbformat": 4,
 "nbformat_minor": 5
}
